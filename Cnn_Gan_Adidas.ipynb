{
  "nbformat": 4,
  "nbformat_minor": 0,
  "metadata": {
    "colab": {
      "provenance": [],
      "authorship_tag": "ABX9TyONs7XBc3/3QkOd/iqmQ3is",
      "include_colab_link": true
    },
    "kernelspec": {
      "name": "python3",
      "display_name": "Python 3"
    },
    "language_info": {
      "name": "python"
    }
  },
  "cells": [
    {
      "cell_type": "markdown",
      "metadata": {
        "id": "view-in-github",
        "colab_type": "text"
      },
      "source": [
        "<a href=\"https://colab.research.google.com/github/DLCBA/Chronos/blob/main/Cnn_Gan_Adidas.ipynb\" target=\"_parent\"><img src=\"https://colab.research.google.com/assets/colab-badge.svg\" alt=\"Open In Colab\"/></a>"
      ]
    },
    {
      "cell_type": "markdown",
      "source": [
        "Implementar una solución con Redes Neuronales Convolucionales (CNN) para datos de ventas puede ser un enfoque interesante, aunque las CNN se utilizan comúnmente para procesamiento de imágenes. Sin embargo, pueden adaptarse a problemas de series temporales o datos secuenciales, como las ventas a lo largo del tiempo."
      ],
      "metadata": {
        "id": "PfOEc2OPU3tx"
      }
    },
    {
      "cell_type": "code",
      "source": [
        "import numpy as np\n",
        "import pandas as pd"
      ],
      "metadata": {
        "id": "HaJ99GBWU5mv"
      },
      "execution_count": null,
      "outputs": []
    },
    {
      "cell_type": "code",
      "source": [
        "# Carga del set de datos\n",
        "url = 'https://github.com/DLCBA/Chronos/raw/d38f70a5c42a0468042cfcf9cf71d244bc986fd4/Adidas%20US%20Sales%20Datasetsfinalpycaret.xlsx'\n",
        "df = pd.read_excel(url)\n"
      ],
      "metadata": {
        "id": "mwE3OQQ2Upg8"
      },
      "execution_count": null,
      "outputs": []
    },
    {
      "cell_type": "code",
      "source": [
        "# Verificamos la estructura del set de datos\n",
        "df.head()"
      ],
      "metadata": {
        "colab": {
          "base_uri": "https://localhost:8080/",
          "height": 206
        },
        "id": "lWrMtbSwVIm5",
        "outputId": "172ee7d5-223e-4b3a-960b-ab757533c3f5"
      },
      "execution_count": null,
      "outputs": [
        {
          "output_type": "execute_result",
          "data": {
            "text/plain": [
              "  Fecha Factura  Precio Unitario  Unidades Vendidas  Ventas Totales\n",
              "0    2020-01-01               50               1200           60000\n",
              "1    2020-01-01               75                275           20625\n",
              "2    2020-01-01               47                336           15792\n",
              "3    2020-01-01               68                 83            5644\n",
              "4    2020-01-01               34                384           13056"
            ],
            "text/html": [
              "\n",
              "  <div id=\"df-50ba240f-d662-4629-a189-b79c64ddac61\" class=\"colab-df-container\">\n",
              "    <div>\n",
              "<style scoped>\n",
              "    .dataframe tbody tr th:only-of-type {\n",
              "        vertical-align: middle;\n",
              "    }\n",
              "\n",
              "    .dataframe tbody tr th {\n",
              "        vertical-align: top;\n",
              "    }\n",
              "\n",
              "    .dataframe thead th {\n",
              "        text-align: right;\n",
              "    }\n",
              "</style>\n",
              "<table border=\"1\" class=\"dataframe\">\n",
              "  <thead>\n",
              "    <tr style=\"text-align: right;\">\n",
              "      <th></th>\n",
              "      <th>Fecha Factura</th>\n",
              "      <th>Precio Unitario</th>\n",
              "      <th>Unidades Vendidas</th>\n",
              "      <th>Ventas Totales</th>\n",
              "    </tr>\n",
              "  </thead>\n",
              "  <tbody>\n",
              "    <tr>\n",
              "      <th>0</th>\n",
              "      <td>2020-01-01</td>\n",
              "      <td>50</td>\n",
              "      <td>1200</td>\n",
              "      <td>60000</td>\n",
              "    </tr>\n",
              "    <tr>\n",
              "      <th>1</th>\n",
              "      <td>2020-01-01</td>\n",
              "      <td>75</td>\n",
              "      <td>275</td>\n",
              "      <td>20625</td>\n",
              "    </tr>\n",
              "    <tr>\n",
              "      <th>2</th>\n",
              "      <td>2020-01-01</td>\n",
              "      <td>47</td>\n",
              "      <td>336</td>\n",
              "      <td>15792</td>\n",
              "    </tr>\n",
              "    <tr>\n",
              "      <th>3</th>\n",
              "      <td>2020-01-01</td>\n",
              "      <td>68</td>\n",
              "      <td>83</td>\n",
              "      <td>5644</td>\n",
              "    </tr>\n",
              "    <tr>\n",
              "      <th>4</th>\n",
              "      <td>2020-01-01</td>\n",
              "      <td>34</td>\n",
              "      <td>384</td>\n",
              "      <td>13056</td>\n",
              "    </tr>\n",
              "  </tbody>\n",
              "</table>\n",
              "</div>\n",
              "    <div class=\"colab-df-buttons\">\n",
              "\n",
              "  <div class=\"colab-df-container\">\n",
              "    <button class=\"colab-df-convert\" onclick=\"convertToInteractive('df-50ba240f-d662-4629-a189-b79c64ddac61')\"\n",
              "            title=\"Convert this dataframe to an interactive table.\"\n",
              "            style=\"display:none;\">\n",
              "\n",
              "  <svg xmlns=\"http://www.w3.org/2000/svg\" height=\"24px\" viewBox=\"0 -960 960 960\">\n",
              "    <path d=\"M120-120v-720h720v720H120Zm60-500h600v-160H180v160Zm220 220h160v-160H400v160Zm0 220h160v-160H400v160ZM180-400h160v-160H180v160Zm440 0h160v-160H620v160ZM180-180h160v-160H180v160Zm440 0h160v-160H620v160Z\"/>\n",
              "  </svg>\n",
              "    </button>\n",
              "\n",
              "  <style>\n",
              "    .colab-df-container {\n",
              "      display:flex;\n",
              "      gap: 12px;\n",
              "    }\n",
              "\n",
              "    .colab-df-convert {\n",
              "      background-color: #E8F0FE;\n",
              "      border: none;\n",
              "      border-radius: 50%;\n",
              "      cursor: pointer;\n",
              "      display: none;\n",
              "      fill: #1967D2;\n",
              "      height: 32px;\n",
              "      padding: 0 0 0 0;\n",
              "      width: 32px;\n",
              "    }\n",
              "\n",
              "    .colab-df-convert:hover {\n",
              "      background-color: #E2EBFA;\n",
              "      box-shadow: 0px 1px 2px rgba(60, 64, 67, 0.3), 0px 1px 3px 1px rgba(60, 64, 67, 0.15);\n",
              "      fill: #174EA6;\n",
              "    }\n",
              "\n",
              "    .colab-df-buttons div {\n",
              "      margin-bottom: 4px;\n",
              "    }\n",
              "\n",
              "    [theme=dark] .colab-df-convert {\n",
              "      background-color: #3B4455;\n",
              "      fill: #D2E3FC;\n",
              "    }\n",
              "\n",
              "    [theme=dark] .colab-df-convert:hover {\n",
              "      background-color: #434B5C;\n",
              "      box-shadow: 0px 1px 3px 1px rgba(0, 0, 0, 0.15);\n",
              "      filter: drop-shadow(0px 1px 2px rgba(0, 0, 0, 0.3));\n",
              "      fill: #FFFFFF;\n",
              "    }\n",
              "  </style>\n",
              "\n",
              "    <script>\n",
              "      const buttonEl =\n",
              "        document.querySelector('#df-50ba240f-d662-4629-a189-b79c64ddac61 button.colab-df-convert');\n",
              "      buttonEl.style.display =\n",
              "        google.colab.kernel.accessAllowed ? 'block' : 'none';\n",
              "\n",
              "      async function convertToInteractive(key) {\n",
              "        const element = document.querySelector('#df-50ba240f-d662-4629-a189-b79c64ddac61');\n",
              "        const dataTable =\n",
              "          await google.colab.kernel.invokeFunction('convertToInteractive',\n",
              "                                                    [key], {});\n",
              "        if (!dataTable) return;\n",
              "\n",
              "        const docLinkHtml = 'Like what you see? Visit the ' +\n",
              "          '<a target=\"_blank\" href=https://colab.research.google.com/notebooks/data_table.ipynb>data table notebook</a>'\n",
              "          + ' to learn more about interactive tables.';\n",
              "        element.innerHTML = '';\n",
              "        dataTable['output_type'] = 'display_data';\n",
              "        await google.colab.output.renderOutput(dataTable, element);\n",
              "        const docLink = document.createElement('div');\n",
              "        docLink.innerHTML = docLinkHtml;\n",
              "        element.appendChild(docLink);\n",
              "      }\n",
              "    </script>\n",
              "  </div>\n",
              "\n",
              "\n",
              "<div id=\"df-4c9fec63-69b0-4fac-b6ec-ac67e17aba52\">\n",
              "  <button class=\"colab-df-quickchart\" onclick=\"quickchart('df-4c9fec63-69b0-4fac-b6ec-ac67e17aba52')\"\n",
              "            title=\"Suggest charts\"\n",
              "            style=\"display:none;\">\n",
              "\n",
              "<svg xmlns=\"http://www.w3.org/2000/svg\" height=\"24px\"viewBox=\"0 0 24 24\"\n",
              "     width=\"24px\">\n",
              "    <g>\n",
              "        <path d=\"M19 3H5c-1.1 0-2 .9-2 2v14c0 1.1.9 2 2 2h14c1.1 0 2-.9 2-2V5c0-1.1-.9-2-2-2zM9 17H7v-7h2v7zm4 0h-2V7h2v10zm4 0h-2v-4h2v4z\"/>\n",
              "    </g>\n",
              "</svg>\n",
              "  </button>\n",
              "\n",
              "<style>\n",
              "  .colab-df-quickchart {\n",
              "      --bg-color: #E8F0FE;\n",
              "      --fill-color: #1967D2;\n",
              "      --hover-bg-color: #E2EBFA;\n",
              "      --hover-fill-color: #174EA6;\n",
              "      --disabled-fill-color: #AAA;\n",
              "      --disabled-bg-color: #DDD;\n",
              "  }\n",
              "\n",
              "  [theme=dark] .colab-df-quickchart {\n",
              "      --bg-color: #3B4455;\n",
              "      --fill-color: #D2E3FC;\n",
              "      --hover-bg-color: #434B5C;\n",
              "      --hover-fill-color: #FFFFFF;\n",
              "      --disabled-bg-color: #3B4455;\n",
              "      --disabled-fill-color: #666;\n",
              "  }\n",
              "\n",
              "  .colab-df-quickchart {\n",
              "    background-color: var(--bg-color);\n",
              "    border: none;\n",
              "    border-radius: 50%;\n",
              "    cursor: pointer;\n",
              "    display: none;\n",
              "    fill: var(--fill-color);\n",
              "    height: 32px;\n",
              "    padding: 0;\n",
              "    width: 32px;\n",
              "  }\n",
              "\n",
              "  .colab-df-quickchart:hover {\n",
              "    background-color: var(--hover-bg-color);\n",
              "    box-shadow: 0 1px 2px rgba(60, 64, 67, 0.3), 0 1px 3px 1px rgba(60, 64, 67, 0.15);\n",
              "    fill: var(--button-hover-fill-color);\n",
              "  }\n",
              "\n",
              "  .colab-df-quickchart-complete:disabled,\n",
              "  .colab-df-quickchart-complete:disabled:hover {\n",
              "    background-color: var(--disabled-bg-color);\n",
              "    fill: var(--disabled-fill-color);\n",
              "    box-shadow: none;\n",
              "  }\n",
              "\n",
              "  .colab-df-spinner {\n",
              "    border: 2px solid var(--fill-color);\n",
              "    border-color: transparent;\n",
              "    border-bottom-color: var(--fill-color);\n",
              "    animation:\n",
              "      spin 1s steps(1) infinite;\n",
              "  }\n",
              "\n",
              "  @keyframes spin {\n",
              "    0% {\n",
              "      border-color: transparent;\n",
              "      border-bottom-color: var(--fill-color);\n",
              "      border-left-color: var(--fill-color);\n",
              "    }\n",
              "    20% {\n",
              "      border-color: transparent;\n",
              "      border-left-color: var(--fill-color);\n",
              "      border-top-color: var(--fill-color);\n",
              "    }\n",
              "    30% {\n",
              "      border-color: transparent;\n",
              "      border-left-color: var(--fill-color);\n",
              "      border-top-color: var(--fill-color);\n",
              "      border-right-color: var(--fill-color);\n",
              "    }\n",
              "    40% {\n",
              "      border-color: transparent;\n",
              "      border-right-color: var(--fill-color);\n",
              "      border-top-color: var(--fill-color);\n",
              "    }\n",
              "    60% {\n",
              "      border-color: transparent;\n",
              "      border-right-color: var(--fill-color);\n",
              "    }\n",
              "    80% {\n",
              "      border-color: transparent;\n",
              "      border-right-color: var(--fill-color);\n",
              "      border-bottom-color: var(--fill-color);\n",
              "    }\n",
              "    90% {\n",
              "      border-color: transparent;\n",
              "      border-bottom-color: var(--fill-color);\n",
              "    }\n",
              "  }\n",
              "</style>\n",
              "\n",
              "  <script>\n",
              "    async function quickchart(key) {\n",
              "      const quickchartButtonEl =\n",
              "        document.querySelector('#' + key + ' button');\n",
              "      quickchartButtonEl.disabled = true;  // To prevent multiple clicks.\n",
              "      quickchartButtonEl.classList.add('colab-df-spinner');\n",
              "      try {\n",
              "        const charts = await google.colab.kernel.invokeFunction(\n",
              "            'suggestCharts', [key], {});\n",
              "      } catch (error) {\n",
              "        console.error('Error during call to suggestCharts:', error);\n",
              "      }\n",
              "      quickchartButtonEl.classList.remove('colab-df-spinner');\n",
              "      quickchartButtonEl.classList.add('colab-df-quickchart-complete');\n",
              "    }\n",
              "    (() => {\n",
              "      let quickchartButtonEl =\n",
              "        document.querySelector('#df-4c9fec63-69b0-4fac-b6ec-ac67e17aba52 button');\n",
              "      quickchartButtonEl.style.display =\n",
              "        google.colab.kernel.accessAllowed ? 'block' : 'none';\n",
              "    })();\n",
              "  </script>\n",
              "</div>\n",
              "\n",
              "    </div>\n",
              "  </div>\n"
            ],
            "application/vnd.google.colaboratory.intrinsic+json": {
              "type": "dataframe",
              "variable_name": "df",
              "summary": "{\n  \"name\": \"df\",\n  \"rows\": 9648,\n  \"fields\": [\n    {\n      \"column\": \"Fecha Factura\",\n      \"properties\": {\n        \"dtype\": \"date\",\n        \"min\": \"2020-01-01 00:00:00\",\n        \"max\": \"2021-12-31 00:00:00\",\n        \"num_unique_values\": 724,\n        \"samples\": [\n          \"2020-11-29 00:00:00\",\n          \"2021-06-09 00:00:00\",\n          \"2021-07-15 00:00:00\"\n        ],\n        \"semantic_type\": \"\",\n        \"description\": \"\"\n      }\n    },\n    {\n      \"column\": \"Precio Unitario\",\n      \"properties\": {\n        \"dtype\": \"number\",\n        \"std\": 14,\n        \"min\": 7,\n        \"max\": 110,\n        \"num_unique_values\": 94,\n        \"samples\": [\n          51,\n          31,\n          100\n        ],\n        \"semantic_type\": \"\",\n        \"description\": \"\"\n      }\n    },\n    {\n      \"column\": \"Unidades Vendidas\",\n      \"properties\": {\n        \"dtype\": \"number\",\n        \"std\": 214,\n        \"min\": 0,\n        \"max\": 1275,\n        \"num_unique_values\": 361,\n        \"samples\": [\n          1100,\n          166,\n          850\n        ],\n        \"semantic_type\": \"\",\n        \"description\": \"\"\n      }\n    },\n    {\n      \"column\": \"Ventas Totales\",\n      \"properties\": {\n        \"dtype\": \"number\",\n        \"std\": 12716,\n        \"min\": 0,\n        \"max\": 82500,\n        \"num_unique_values\": 3082,\n        \"samples\": [\n          10036,\n          6954,\n          9982\n        ],\n        \"semantic_type\": \"\",\n        \"description\": \"\"\n      }\n    }\n  ]\n}"
            }
          },
          "metadata": {},
          "execution_count": 3
        }
      ]
    },
    {
      "cell_type": "code",
      "source": [
        "# Muestra información detallada sobre el DataFrame, incluidos los tipos de datos\n",
        "df.info()"
      ],
      "metadata": {
        "colab": {
          "base_uri": "https://localhost:8080/"
        },
        "id": "QdCre12lVpYB",
        "outputId": "4d55367a-aa95-4c2c-9277-8d38b5f1d787"
      },
      "execution_count": null,
      "outputs": [
        {
          "output_type": "stream",
          "name": "stdout",
          "text": [
            "<class 'pandas.core.frame.DataFrame'>\n",
            "RangeIndex: 9648 entries, 0 to 9647\n",
            "Data columns (total 4 columns):\n",
            " #   Column             Non-Null Count  Dtype         \n",
            "---  ------             --------------  -----         \n",
            " 0   Fecha Factura      9648 non-null   datetime64[ns]\n",
            " 1   Precio Unitario    9648 non-null   int64         \n",
            " 2   Unidades Vendidas  9648 non-null   int64         \n",
            " 3   Ventas Totales     9648 non-null   int64         \n",
            "dtypes: datetime64[ns](1), int64(3)\n",
            "memory usage: 301.6 KB\n"
          ]
        }
      ]
    },
    {
      "cell_type": "code",
      "source": [
        "# Eliminar las columnas 'Precio Unitario' y 'Unidades Vendidas'\n",
        "df = df.drop(['Precio Unitario', 'Unidades Vendidas'], axis=1)\n",
        "\n",
        "# Cambiar el nombre de la columna 'Fecha Factura' a 'Fecha'\n",
        "df = df.rename(columns={'Fecha Factura': 'Fecha'})"
      ],
      "metadata": {
        "id": "FU6ZsB87Vzvu"
      },
      "execution_count": null,
      "outputs": []
    },
    {
      "cell_type": "code",
      "source": [
        "# Función para crear secuencias adecuadas\n",
        "def create_sequences(data, window_size):\n",
        "    sequences = []\n",
        "    labels = []\n",
        "    for i in range(len(data) - window_size):\n",
        "        seq = data[i:i + window_size]\n",
        "        label = data[i + window_size]\n",
        "        sequences.append(seq)\n",
        "        labels.append(label)\n",
        "    return np.array(sequences), np.array(labels)\n",
        "\n",
        "\n",
        "window_size = 30  # Tamaño de la ventana\n",
        "sales_data = df['Ventas Totales'].values  # Ajuste a la columna 'Ventas Totales'\n",
        "sequences, labels = create_sequences(sales_data, window_size)\n",
        "\n",
        "# Mostrar las dimensiones de las secuencias y etiquetas para verificar\n",
        "print(sequences.shape)\n",
        "print(labels.shape)"
      ],
      "metadata": {
        "colab": {
          "base_uri": "https://localhost:8080/"
        },
        "id": "FZat1daUVJdL",
        "outputId": "a4004d12-2093-4d40-8448-0cab8ab0018b"
      },
      "execution_count": null,
      "outputs": [
        {
          "output_type": "stream",
          "name": "stdout",
          "text": [
            "(9618, 30)\n",
            "(9618,)\n"
          ]
        }
      ]
    },
    {
      "cell_type": "code",
      "source": [
        "from tensorflow.keras.models import Sequential\n",
        "from tensorflow.keras.layers import Conv1D, MaxPooling1D, Flatten, Dense\n",
        "\n",
        "model = Sequential([\n",
        "    Conv1D(filters=64, kernel_size=2, activation='relu', input_shape=(window_size, 1)),\n",
        "    MaxPooling1D(pool_size=2),\n",
        "    Flatten(),\n",
        "    Dense(50, activation='relu'),\n",
        "    Dense(1)\n",
        "])\n",
        "\n",
        "model.compile(optimizer='adam', loss='mse')\n"
      ],
      "metadata": {
        "id": "Bptwfm7vWkNb"
      },
      "execution_count": null,
      "outputs": []
    },
    {
      "cell_type": "markdown",
      "source": [
        "Formateamos las secuencias para que tengan la forma esperada por la CNN ([samples, time steps, features]).\n"
      ],
      "metadata": {
        "id": "7qLVkOGBWwSa"
      }
    },
    {
      "cell_type": "code",
      "source": [
        "# Reshape de datos para CNN\n",
        "sequences = sequences.reshape((sequences.shape[0], sequences.shape[1], 1))\n"
      ],
      "metadata": {
        "id": "k9pE3_teWxwz"
      },
      "execution_count": null,
      "outputs": []
    },
    {
      "cell_type": "code",
      "source": [
        "# Entrenaiento del modelo. split 80/20\n",
        "from sklearn.model_selection import train_test_split\n",
        "\n",
        "# Dividir datos en entrenamiento y validación\n",
        "X_train, X_val, y_train, y_val = train_test_split(sequences, labels, test_size=0.2, random_state=42)\n",
        "\n",
        "# Entrenar el modelo\n",
        "history = model.fit(X_train, y_train, epochs=20, validation_data=(X_val, y_val))\n"
      ],
      "metadata": {
        "colab": {
          "base_uri": "https://localhost:8080/"
        },
        "id": "sTDcePsHW61E",
        "outputId": "27a62a71-ec23-4d2e-bfa7-823fd4773800"
      },
      "execution_count": null,
      "outputs": [
        {
          "output_type": "stream",
          "name": "stdout",
          "text": [
            "Epoch 1/20\n",
            "241/241 [==============================] - 2s 4ms/step - loss: 132088000.0000 - val_loss: 114064168.0000\n",
            "Epoch 2/20\n",
            "241/241 [==============================] - 1s 3ms/step - loss: 117203648.0000 - val_loss: 107427744.0000\n",
            "Epoch 3/20\n",
            "241/241 [==============================] - 1s 5ms/step - loss: 111246328.0000 - val_loss: 103584960.0000\n",
            "Epoch 4/20\n",
            "241/241 [==============================] - 1s 6ms/step - loss: 108929408.0000 - val_loss: 101866552.0000\n",
            "Epoch 5/20\n",
            "241/241 [==============================] - 1s 5ms/step - loss: 106493352.0000 - val_loss: 100463600.0000\n",
            "Epoch 6/20\n",
            "241/241 [==============================] - 1s 3ms/step - loss: 104076912.0000 - val_loss: 100269904.0000\n",
            "Epoch 7/20\n",
            "241/241 [==============================] - 1s 3ms/step - loss: 102521776.0000 - val_loss: 102209160.0000\n",
            "Epoch 8/20\n",
            "241/241 [==============================] - 1s 3ms/step - loss: 99422680.0000 - val_loss: 96544184.0000\n",
            "Epoch 9/20\n",
            "241/241 [==============================] - 1s 3ms/step - loss: 97488000.0000 - val_loss: 98876744.0000\n",
            "Epoch 10/20\n",
            "241/241 [==============================] - 1s 4ms/step - loss: 96191904.0000 - val_loss: 99266432.0000\n",
            "Epoch 11/20\n",
            "241/241 [==============================] - 1s 5ms/step - loss: 95399184.0000 - val_loss: 95341832.0000\n",
            "Epoch 12/20\n",
            "241/241 [==============================] - 2s 7ms/step - loss: 93899672.0000 - val_loss: 98115408.0000\n",
            "Epoch 13/20\n",
            "241/241 [==============================] - 2s 6ms/step - loss: 92575352.0000 - val_loss: 97604616.0000\n",
            "Epoch 14/20\n",
            "241/241 [==============================] - 2s 10ms/step - loss: 91660928.0000 - val_loss: 98311144.0000\n",
            "Epoch 15/20\n",
            "241/241 [==============================] - 3s 11ms/step - loss: 90522280.0000 - val_loss: 94837152.0000\n",
            "Epoch 16/20\n",
            "241/241 [==============================] - 1s 4ms/step - loss: 89644048.0000 - val_loss: 96621808.0000\n",
            "Epoch 17/20\n",
            "241/241 [==============================] - 1s 3ms/step - loss: 88843640.0000 - val_loss: 96179000.0000\n",
            "Epoch 18/20\n",
            "241/241 [==============================] - 1s 3ms/step - loss: 87789688.0000 - val_loss: 94514184.0000\n",
            "Epoch 19/20\n",
            "241/241 [==============================] - 1s 3ms/step - loss: 86931760.0000 - val_loss: 97106600.0000\n",
            "Epoch 20/20\n",
            "241/241 [==============================] - 1s 3ms/step - loss: 86472208.0000 - val_loss: 98930528.0000\n"
          ]
        }
      ]
    },
    {
      "cell_type": "code",
      "source": [
        "# Evaluar el modelo en el conjunto de validación\n",
        "val_loss = model.evaluate(X_val, y_val)\n",
        "print(f'Validation Loss: {val_loss}')"
      ],
      "metadata": {
        "colab": {
          "base_uri": "https://localhost:8080/"
        },
        "id": "NVKrJP4aXOKS",
        "outputId": "fbe2cc50-71cc-4300-cd04-72637c0a7733"
      },
      "execution_count": null,
      "outputs": [
        {
          "output_type": "stream",
          "name": "stdout",
          "text": [
            "61/61 [==============================] - 0s 2ms/step - loss: 98930528.0000\n",
            "Validation Loss: 98930528.0\n"
          ]
        }
      ]
    },
    {
      "cell_type": "markdown",
      "source": [
        "Mejoramiento de la CNN"
      ],
      "metadata": {
        "id": "tMSMZLXEXb1R"
      }
    },
    {
      "cell_type": "code",
      "source": [
        "import numpy as np\n",
        "import pandas as pd\n",
        "from tensorflow.keras.models import Sequential\n",
        "from tensorflow.keras.layers import Conv1D, MaxPooling1D, Flatten, Dense, Dropout\n",
        "from tensorflow.keras.optimizers import Adam\n",
        "from sklearn.model_selection import train_test_split\n",
        "from sklearn.preprocessing import MinMaxScaler"
      ],
      "metadata": {
        "id": "d6ajRYhIX8DL"
      },
      "execution_count": null,
      "outputs": []
    },
    {
      "cell_type": "code",
      "source": [
        "# Función para crear secuencias\n",
        "def create_sequences(data, window_size):\n",
        "    sequences = []\n",
        "    labels = []\n",
        "    for i in range(len(data) - window_size):\n",
        "        seq = data[i:i + window_size]\n",
        "        label = data[i + window_size]\n",
        "        sequences.append(seq)\n",
        "        labels.append(label)\n",
        "    return np.array(sequences), np.array(labels)"
      ],
      "metadata": {
        "id": "Ssy3IYyuYSaX"
      },
      "execution_count": null,
      "outputs": []
    },
    {
      "cell_type": "code",
      "source": [
        "# Tamaño de la ventana\n",
        "window_size = 30  # Tamaño de la ventana\n",
        "sales_data = df['Ventas Totales'].values  # Ajuste a la columna 'Ventas Totales'"
      ],
      "metadata": {
        "id": "7WrxOYNTYZ5Z"
      },
      "execution_count": null,
      "outputs": []
    },
    {
      "cell_type": "code",
      "source": [
        "# Normalización\n",
        "scaler = MinMaxScaler()\n",
        "sales_data_scaled = scaler.fit_transform(sales_data.reshape(-1, 1))\n",
        "\n",
        "sequences, labels = create_sequences(sales_data_scaled, window_size)\n",
        "sequences = sequences.reshape((sequences.shape[0], sequences.shape[1], 1))"
      ],
      "metadata": {
        "id": "f4Ldh6K2YmoK"
      },
      "execution_count": null,
      "outputs": []
    },
    {
      "cell_type": "code",
      "source": [
        "# Dividir datos en entrenamiento y validación\n",
        "X_train, X_val, y_train, y_val = train_test_split(sequences, labels, test_size=0.2, random_state=42)\n"
      ],
      "metadata": {
        "id": "pt91q17-YsQH"
      },
      "execution_count": null,
      "outputs": []
    },
    {
      "cell_type": "code",
      "source": [
        "# Construcción del modelo CNN mejorado\n",
        "model = Sequential([\n",
        "    Conv1D(filters=128, kernel_size=3, activation='relu', input_shape=(window_size, 1)),\n",
        "    MaxPooling1D(pool_size=2),\n",
        "    Dropout(0.2),\n",
        "    Conv1D(filters=64, kernel_size=3, activation='relu'),\n",
        "    MaxPooling1D(pool_size=2),\n",
        "    Dropout(0.2),\n",
        "    Flatten(),\n",
        "    Dense(100, activation='relu'),\n",
        "    Dropout(0.2),\n",
        "    Dense(1)\n",
        "])\n"
      ],
      "metadata": {
        "id": "UV89lTX5Yx11"
      },
      "execution_count": null,
      "outputs": []
    },
    {
      "cell_type": "code",
      "source": [
        "# Compilar el modelo con una tasa de aprendizaje ajustada\n",
        "optimizer = Adam(learning_rate=0.001)\n",
        "model.compile(optimizer=optimizer, loss='mse')\n"
      ],
      "metadata": {
        "id": "uR7jmeREY2ft"
      },
      "execution_count": null,
      "outputs": []
    },
    {
      "cell_type": "code",
      "source": [
        "# Entrenar el modelo\n",
        "history = model.fit(X_train, y_train, epochs=50, validation_data=(X_val, y_val))\n"
      ],
      "metadata": {
        "colab": {
          "base_uri": "https://localhost:8080/"
        },
        "id": "-5t1O_r0Y5ep",
        "outputId": "0a258b26-b267-414d-c48e-3f5d806eb976"
      },
      "execution_count": null,
      "outputs": [
        {
          "output_type": "stream",
          "name": "stdout",
          "text": [
            "Epoch 1/50\n",
            "241/241 [==============================] - 6s 19ms/step - loss: 0.0184 - val_loss: 0.0175\n",
            "Epoch 2/50\n",
            "241/241 [==============================] - 2s 9ms/step - loss: 0.0168 - val_loss: 0.0139\n",
            "Epoch 3/50\n",
            "241/241 [==============================] - 2s 8ms/step - loss: 0.0156 - val_loss: 0.0146\n",
            "Epoch 4/50\n",
            "241/241 [==============================] - 2s 8ms/step - loss: 0.0150 - val_loss: 0.0125\n",
            "Epoch 5/50\n",
            "241/241 [==============================] - 3s 11ms/step - loss: 0.0145 - val_loss: 0.0125\n",
            "Epoch 6/50\n",
            "241/241 [==============================] - 2s 8ms/step - loss: 0.0138 - val_loss: 0.0118\n",
            "Epoch 7/50\n",
            "241/241 [==============================] - 3s 13ms/step - loss: 0.0134 - val_loss: 0.0120\n",
            "Epoch 8/50\n",
            "241/241 [==============================] - 2s 9ms/step - loss: 0.0134 - val_loss: 0.0114\n",
            "Epoch 9/50\n",
            "241/241 [==============================] - 2s 8ms/step - loss: 0.0131 - val_loss: 0.0111\n",
            "Epoch 10/50\n",
            "241/241 [==============================] - 2s 8ms/step - loss: 0.0130 - val_loss: 0.0118\n",
            "Epoch 11/50\n",
            "241/241 [==============================] - 2s 8ms/step - loss: 0.0126 - val_loss: 0.0110\n",
            "Epoch 12/50\n",
            "241/241 [==============================] - 2s 8ms/step - loss: 0.0126 - val_loss: 0.0107\n",
            "Epoch 13/50\n",
            "241/241 [==============================] - 3s 10ms/step - loss: 0.0124 - val_loss: 0.0107\n",
            "Epoch 14/50\n",
            "241/241 [==============================] - 3s 12ms/step - loss: 0.0122 - val_loss: 0.0108\n",
            "Epoch 15/50\n",
            "241/241 [==============================] - 2s 8ms/step - loss: 0.0120 - val_loss: 0.0110\n",
            "Epoch 16/50\n",
            "241/241 [==============================] - 2s 8ms/step - loss: 0.0122 - val_loss: 0.0106\n",
            "Epoch 17/50\n",
            "241/241 [==============================] - 2s 8ms/step - loss: 0.0119 - val_loss: 0.0119\n",
            "Epoch 18/50\n",
            "241/241 [==============================] - 2s 8ms/step - loss: 0.0116 - val_loss: 0.0108\n",
            "Epoch 19/50\n",
            "241/241 [==============================] - 2s 8ms/step - loss: 0.0115 - val_loss: 0.0105\n",
            "Epoch 20/50\n",
            "241/241 [==============================] - 3s 12ms/step - loss: 0.0115 - val_loss: 0.0106\n",
            "Epoch 21/50\n",
            "241/241 [==============================] - 2s 10ms/step - loss: 0.0111 - val_loss: 0.0104\n",
            "Epoch 22/50\n",
            "241/241 [==============================] - 2s 8ms/step - loss: 0.0113 - val_loss: 0.0104\n",
            "Epoch 23/50\n",
            "241/241 [==============================] - 2s 8ms/step - loss: 0.0109 - val_loss: 0.0103\n",
            "Epoch 24/50\n",
            "241/241 [==============================] - 2s 8ms/step - loss: 0.0111 - val_loss: 0.0109\n",
            "Epoch 25/50\n",
            "241/241 [==============================] - 2s 8ms/step - loss: 0.0109 - val_loss: 0.0102\n",
            "Epoch 26/50\n",
            "241/241 [==============================] - 2s 10ms/step - loss: 0.0107 - val_loss: 0.0100\n",
            "Epoch 27/50\n",
            "241/241 [==============================] - 3s 12ms/step - loss: 0.0107 - val_loss: 0.0110\n",
            "Epoch 28/50\n",
            "241/241 [==============================] - 2s 8ms/step - loss: 0.0105 - val_loss: 0.0103\n",
            "Epoch 29/50\n",
            "241/241 [==============================] - 2s 8ms/step - loss: 0.0106 - val_loss: 0.0100\n",
            "Epoch 30/50\n",
            "241/241 [==============================] - 2s 8ms/step - loss: 0.0102 - val_loss: 0.0105\n",
            "Epoch 31/50\n",
            "241/241 [==============================] - 2s 8ms/step - loss: 0.0104 - val_loss: 0.0099\n",
            "Epoch 32/50\n",
            "241/241 [==============================] - 2s 8ms/step - loss: 0.0100 - val_loss: 0.0097\n",
            "Epoch 33/50\n",
            "241/241 [==============================] - 3s 12ms/step - loss: 0.0101 - val_loss: 0.0099\n",
            "Epoch 34/50\n",
            "241/241 [==============================] - 2s 9ms/step - loss: 0.0103 - val_loss: 0.0102\n",
            "Epoch 35/50\n",
            "241/241 [==============================] - 2s 8ms/step - loss: 0.0098 - val_loss: 0.0099\n",
            "Epoch 36/50\n",
            "241/241 [==============================] - 2s 8ms/step - loss: 0.0100 - val_loss: 0.0096\n",
            "Epoch 37/50\n",
            "241/241 [==============================] - 2s 8ms/step - loss: 0.0097 - val_loss: 0.0096\n",
            "Epoch 38/50\n",
            "241/241 [==============================] - 2s 8ms/step - loss: 0.0096 - val_loss: 0.0098\n",
            "Epoch 39/50\n",
            "241/241 [==============================] - 2s 10ms/step - loss: 0.0097 - val_loss: 0.0095\n",
            "Epoch 40/50\n",
            "241/241 [==============================] - 3s 13ms/step - loss: 0.0098 - val_loss: 0.0096\n",
            "Epoch 41/50\n",
            "241/241 [==============================] - 2s 8ms/step - loss: 0.0097 - val_loss: 0.0096\n",
            "Epoch 42/50\n",
            "241/241 [==============================] - 2s 8ms/step - loss: 0.0093 - val_loss: 0.0094\n",
            "Epoch 43/50\n",
            "241/241 [==============================] - 2s 8ms/step - loss: 0.0092 - val_loss: 0.0094\n",
            "Epoch 44/50\n",
            "241/241 [==============================] - 2s 8ms/step - loss: 0.0095 - val_loss: 0.0098\n",
            "Epoch 45/50\n",
            "241/241 [==============================] - 2s 8ms/step - loss: 0.0095 - val_loss: 0.0097\n",
            "Epoch 46/50\n",
            "241/241 [==============================] - 3s 12ms/step - loss: 0.0092 - val_loss: 0.0098\n",
            "Epoch 47/50\n",
            "241/241 [==============================] - 2s 10ms/step - loss: 0.0093 - val_loss: 0.0096\n",
            "Epoch 48/50\n",
            "241/241 [==============================] - 2s 8ms/step - loss: 0.0090 - val_loss: 0.0094\n",
            "Epoch 49/50\n",
            "241/241 [==============================] - 2s 8ms/step - loss: 0.0089 - val_loss: 0.0093\n",
            "Epoch 50/50\n",
            "241/241 [==============================] - 2s 8ms/step - loss: 0.0092 - val_loss: 0.0098\n"
          ]
        }
      ]
    },
    {
      "cell_type": "code",
      "source": [
        "# Evaluar el modelo en el conjunto de validación\n",
        "val_loss = model.evaluate(X_val, y_val)\n",
        "print(f'Validation Loss: {val_loss}')"
      ],
      "metadata": {
        "colab": {
          "base_uri": "https://localhost:8080/"
        },
        "id": "flXw7431Y8r3",
        "outputId": "dafe9677-d940-49cf-d207-28146457f6fb"
      },
      "execution_count": null,
      "outputs": [
        {
          "output_type": "stream",
          "name": "stdout",
          "text": [
            "61/61 [==============================] - 0s 3ms/step - loss: 0.0098\n",
            "Validation Loss: 0.009800220839679241\n"
          ]
        }
      ]
    },
    {
      "cell_type": "markdown",
      "source": [
        "Análisis de Predicciones"
      ],
      "metadata": {
        "id": "9lMjw0kSaKfw"
      }
    },
    {
      "cell_type": "code",
      "source": [
        "from sklearn.metrics import mean_absolute_error, mean_absolute_percentage_error"
      ],
      "metadata": {
        "id": "Uoch8xnOZifu"
      },
      "execution_count": null,
      "outputs": []
    },
    {
      "cell_type": "code",
      "source": [
        "# Dividir datos en entrenamiento, validación y prueba\n",
        "X_train, X_temp, y_train, y_temp = train_test_split(sequences, labels, test_size=0.4, random_state=42)\n",
        "X_val, X_test, y_val, y_test = train_test_split(X_temp, y_temp, test_size=0.5, random_state=42)"
      ],
      "metadata": {
        "id": "UdtYeRTmaePR"
      },
      "execution_count": null,
      "outputs": []
    },
    {
      "cell_type": "code",
      "source": [
        "# Evaluar el modelo en el conjunto de prueba\n",
        "test_loss = model.evaluate(X_test, y_test)\n",
        "print(f'Test Loss: {test_loss}')"
      ],
      "metadata": {
        "colab": {
          "base_uri": "https://localhost:8080/"
        },
        "id": "jzXyCtx2bftX",
        "outputId": "f4c9d136-90f5-46cb-c0a3-2dfb8c815db0"
      },
      "execution_count": null,
      "outputs": [
        {
          "output_type": "stream",
          "name": "stdout",
          "text": [
            "61/61 [==============================] - 0s 2ms/step - loss: 0.0091\n",
            "Test Loss: 0.009135179221630096\n"
          ]
        }
      ]
    },
    {
      "cell_type": "code",
      "source": [
        "# Hacer predicciones en el conjunto de prueba\n",
        "y_test_pred = model.predict(X_test)\n",
        "y_test_pred = scaler.inverse_transform(y_test_pred)\n",
        "y_test_true = scaler.inverse_transform(y_test.reshape(-1, 1))"
      ],
      "metadata": {
        "colab": {
          "base_uri": "https://localhost:8080/"
        },
        "id": "uc4MCe6UbjQL",
        "outputId": "5594cb27-2862-48fc-8322-cac9d535b4c1"
      },
      "execution_count": null,
      "outputs": [
        {
          "output_type": "stream",
          "name": "stdout",
          "text": [
            "61/61 [==============================] - 0s 3ms/step\n"
          ]
        }
      ]
    },
    {
      "cell_type": "code",
      "source": [
        "# Evaluación adicional\n",
        "mae = mean_absolute_error(y_test_true, y_test_pred)\n",
        "mape = mean_absolute_percentage_error(y_test_true, y_test_pred)\n",
        "\n",
        "print(f'Mean Absolute Error (MAE): {mae}')\n",
        "print(f'Mean Absolute Percentage Error (MAPE): {mape}')"
      ],
      "metadata": {
        "colab": {
          "base_uri": "https://localhost:8080/"
        },
        "id": "c_-_AkztbvAU",
        "outputId": "b440392f-acc9-4f97-d643-67c1b2455358"
      },
      "execution_count": null,
      "outputs": [
        {
          "output_type": "stream",
          "name": "stdout",
          "text": [
            "Mean Absolute Error (MAE): 4698.160125129684\n",
            "Mean Absolute Percentage Error (MAPE): 9450166430460598.0\n"
          ]
        }
      ]
    },
    {
      "cell_type": "code",
      "source": [
        "from sklearn.metrics import r2_score"
      ],
      "metadata": {
        "id": "MH8-VXaMb3ii"
      },
      "execution_count": null,
      "outputs": []
    },
    {
      "cell_type": "code",
      "source": [
        "# Calcular R^2 para el conjunto de prueba\n",
        "r2_test = r2_score(y_test_true, y_test_pred)\n",
        "print(f'R^2 on Test Data: {r2_test}')"
      ],
      "metadata": {
        "colab": {
          "base_uri": "https://localhost:8080/"
        },
        "id": "al5rq9WVccJz",
        "outputId": "c2a62510-adea-41f0-82a0-0d9f7aa74f62"
      },
      "execution_count": null,
      "outputs": [
        {
          "output_type": "stream",
          "name": "stdout",
          "text": [
            "R^2 on Test Data: 0.6066910293437121\n"
          ]
        }
      ]
    },
    {
      "cell_type": "code",
      "source": [
        "# Hacer predicciones en el conjunto de validación\n",
        "y_val_pred = model.predict(X_val)\n",
        "y_val_pred = scaler.inverse_transform(y_val_pred)\n",
        "y_val_true = scaler.inverse_transform(y_val.reshape(-1, 1))"
      ],
      "metadata": {
        "colab": {
          "base_uri": "https://localhost:8080/"
        },
        "id": "4AvQCRE7cvlv",
        "outputId": "4d6ff3dd-090b-4c20-a586-6e3601df2754"
      },
      "execution_count": null,
      "outputs": [
        {
          "output_type": "stream",
          "name": "stdout",
          "text": [
            "61/61 [==============================] - 0s 2ms/step\n"
          ]
        }
      ]
    },
    {
      "cell_type": "code",
      "source": [
        "# Calcular R^2 para el conjunto de validación\n",
        "r2_val = r2_score(y_val_true, y_val_pred)\n",
        "print(f'R^2 on Validation Data: {r2_val}')"
      ],
      "metadata": {
        "colab": {
          "base_uri": "https://localhost:8080/"
        },
        "id": "YSJQn2wcckjB",
        "outputId": "dd0ddceb-551a-4162-a43b-b68f7c456110"
      },
      "execution_count": null,
      "outputs": [
        {
          "output_type": "stream",
          "name": "stdout",
          "text": [
            "R^2 on Validation Data: 0.6669299346563589\n"
          ]
        }
      ]
    },
    {
      "cell_type": "markdown",
      "source": [
        "Mejoró bastante el desempeño cuando se aplicó una CNN mejorada con mejores hiperparametros, Dropout  Learning Rate, aunque sigue siendo mejor el desempeño con modelos de regresión."
      ],
      "metadata": {
        "id": "l7pwT-G4dGR_"
      }
    },
    {
      "cell_type": "markdown",
      "source": [
        "**Aplicación de modelos GAN**\n",
        "\n",
        "Las GAN son una clase de redes neuronales que se componen de dos modelos: un generador y un discriminador. En el contexto de series temporales como las ventas, las GAN pueden ser utilizadas para generar secuencias de datos similares a las observadas en el conjunto de entrenamiento."
      ],
      "metadata": {
        "id": "BXODSUuWd48u"
      }
    },
    {
      "cell_type": "code",
      "source": [
        "from tensorflow.keras.models import Sequential, Model\n",
        "from tensorflow.keras.layers import Dense, Input, Reshape, Flatten, LeakyReLU\n",
        "from tensorflow.keras.optimizers import Adam\n",
        "from sklearn.preprocessing import MinMaxScaler"
      ],
      "metadata": {
        "id": "C9_awsCFeIrh"
      },
      "execution_count": null,
      "outputs": []
    },
    {
      "cell_type": "code",
      "source": [
        "# Tamaño de la ventana\n",
        "window_size = 30  # Tamaño de la ventana\n",
        "sales_data = df['Ventas Totales'].values"
      ],
      "metadata": {
        "id": "r9bNP0RaeJ7Z"
      },
      "execution_count": null,
      "outputs": []
    },
    {
      "cell_type": "code",
      "source": [
        "# Normalización\n",
        "scaler = MinMaxScaler()\n",
        "sales_data_scaled = scaler.fit_transform(sales_data.reshape(-1, 1))"
      ],
      "metadata": {
        "id": "m834lERZeQdV"
      },
      "execution_count": null,
      "outputs": []
    },
    {
      "cell_type": "code",
      "source": [
        "# Crear secuencias a partir de los datos de ventas\n",
        "def create_sequences(data, window_size):\n",
        "    sequences = []\n",
        "    for i in range(len(data) - window_size):\n",
        "        seq = data[i:i + window_size]\n",
        "        sequences.append(seq)\n",
        "    return np.array(sequences)\n",
        "sequences = create_sequences(sales_data_scaled, window_size)"
      ],
      "metadata": {
        "id": "2tpytWbEeSvv"
      },
      "execution_count": null,
      "outputs": []
    },
    {
      "cell_type": "code",
      "source": [
        "from tensorflow.keras.optimizers import legacy as optimizers_legacy"
      ],
      "metadata": {
        "id": "sD2eIuQwfjjw"
      },
      "execution_count": null,
      "outputs": []
    },
    {
      "cell_type": "code",
      "source": [
        "# Parámetros de la GAN\n",
        "latent_dim = 100\n",
        "adam = optimizers_legacy.Adam(learning_rate=0.0002, beta_1=0.5)"
      ],
      "metadata": {
        "id": "flefULTcebfa"
      },
      "execution_count": null,
      "outputs": []
    },
    {
      "cell_type": "code",
      "source": [
        "# Generador\n",
        "def build_generator(latent_dim, window_size):\n",
        "    model = Sequential()\n",
        "    model.add(Dense(128, input_dim=latent_dim))\n",
        "    model.add(LeakyReLU(alpha=0.2))\n",
        "    model.add(Dense(window_size))\n",
        "    model.add(LeakyReLU(alpha=0.2))\n",
        "    model.add(Dense(window_size, activation='tanh'))\n",
        "    return model\n"
      ],
      "metadata": {
        "id": "gMKu0dRIefvX"
      },
      "execution_count": null,
      "outputs": []
    },
    {
      "cell_type": "code",
      "source": [
        "# Discriminador\n",
        "def build_discriminator(window_size):\n",
        "    model = Sequential()\n",
        "    model.add(Dense(128, input_shape=(window_size,)))\n",
        "    model.add(LeakyReLU(alpha=0.2))\n",
        "    model.add(Dense(1, activation='sigmoid'))\n",
        "    return model"
      ],
      "metadata": {
        "id": "nJqSExSWehQ2"
      },
      "execution_count": null,
      "outputs": []
    },
    {
      "cell_type": "code",
      "source": [
        "# Construcción del modelo GAN\n",
        "generator = build_generator(latent_dim, window_size)\n",
        "discriminator = build_discriminator(window_size)\n",
        "discriminator.compile(optimizer=adam, loss='binary_crossentropy', metrics=['accuracy'])"
      ],
      "metadata": {
        "id": "Z92DmmKNelnR"
      },
      "execution_count": null,
      "outputs": []
    },
    {
      "cell_type": "code",
      "source": [
        "z = Input(shape=(latent_dim,))\n",
        "generated_seq = generator(z)\n",
        "discriminator.trainable = False\n",
        "validity = discriminator(generated_seq)"
      ],
      "metadata": {
        "id": "xyXMLgJAeoY1"
      },
      "execution_count": null,
      "outputs": []
    },
    {
      "cell_type": "code",
      "source": [
        "gan = Model(z, validity)\n",
        "gan.compile(optimizer=adam, loss='binary_crossentropy')"
      ],
      "metadata": {
        "id": "GMFPTo9Weziq"
      },
      "execution_count": null,
      "outputs": []
    },
    {
      "cell_type": "code",
      "source": [
        "# Entrenamiento de la GAN\n",
        "def train_gan(epochs, batch_size, window_size):\n",
        "    half_batch = int(batch_size / 2)\n",
        "\n",
        "    for epoch in range(epochs):\n",
        "        # Entrenar el discriminador\n",
        "        idx = np.random.randint(0, sequences.shape[0], half_batch)\n",
        "        real_seqs = sequences[idx]\n",
        "\n",
        "        noise = np.random.normal(0, 1, (half_batch, latent_dim))\n",
        "        gen_seqs = generator.predict(noise)\n",
        "\n",
        "        d_loss_real = discriminator.train_on_batch(real_seqs, np.ones((half_batch, 1)))\n",
        "        d_loss_fake = discriminator.train_on_batch(gen_seqs, np.zeros((half_batch, 1)))\n",
        "        d_loss = 0.5 * np.add(d_loss_real, d_loss_fake)\n",
        "\n",
        "        # Entrenar el generador\n",
        "        noise = np.random.normal(0, 1, (batch_size, latent_dim))\n",
        "        valid_y = np.array([1] * batch_size)\n",
        "        g_loss = gan.train_on_batch(noise, valid_y)\n",
        "\n",
        "        if epoch % 100 == 0:\n",
        "            print(f\"{epoch} [D loss: {d_loss[0]} | D accuracy: {100 * d_loss[1]}] [G loss: {g_loss}]\")"
      ],
      "metadata": {
        "id": "58JVU400fMVw"
      },
      "execution_count": null,
      "outputs": []
    },
    {
      "cell_type": "code",
      "source": [
        "# Parámetros de entrenamiento\n",
        "epochs = 500\n",
        "batch_size = 64\n",
        "\n",
        "train_gan(epochs, batch_size, window_size)"
      ],
      "metadata": {
        "colab": {
          "base_uri": "https://localhost:8080/"
        },
        "id": "_xnEB3Kgfn0H",
        "outputId": "a830ab04-536b-4534-fc9a-db2603c96bf9"
      },
      "execution_count": null,
      "outputs": [
        {
          "output_type": "stream",
          "name": "stdout",
          "text": [
            "1/1 [==============================] - 0s 20ms/step\n",
            "0 [D loss: 0.6898613274097443 | D accuracy: 62.5] [G loss: 0.6987556219100952]\n",
            "1/1 [==============================] - 0s 20ms/step\n",
            "1/1 [==============================] - 0s 21ms/step\n",
            "1/1 [==============================] - 0s 19ms/step\n",
            "1/1 [==============================] - 0s 21ms/step\n",
            "1/1 [==============================] - 0s 19ms/step\n",
            "1/1 [==============================] - 0s 19ms/step\n",
            "1/1 [==============================] - 0s 22ms/step\n",
            "1/1 [==============================] - 0s 27ms/step\n",
            "1/1 [==============================] - 0s 21ms/step\n",
            "1/1 [==============================] - 0s 26ms/step\n",
            "1/1 [==============================] - 0s 22ms/step\n",
            "1/1 [==============================] - 0s 21ms/step\n",
            "1/1 [==============================] - 0s 19ms/step\n",
            "1/1 [==============================] - 0s 23ms/step\n",
            "1/1 [==============================] - 0s 20ms/step\n",
            "1/1 [==============================] - 0s 19ms/step\n",
            "1/1 [==============================] - 0s 27ms/step\n",
            "1/1 [==============================] - 0s 24ms/step\n",
            "1/1 [==============================] - 0s 25ms/step\n",
            "1/1 [==============================] - 0s 21ms/step\n",
            "1/1 [==============================] - 0s 22ms/step\n",
            "1/1 [==============================] - 0s 20ms/step\n",
            "1/1 [==============================] - 0s 24ms/step\n",
            "1/1 [==============================] - 0s 19ms/step\n",
            "1/1 [==============================] - 0s 20ms/step\n",
            "1/1 [==============================] - 0s 21ms/step\n",
            "1/1 [==============================] - 0s 34ms/step\n",
            "1/1 [==============================] - 0s 21ms/step\n",
            "1/1 [==============================] - 0s 20ms/step\n",
            "1/1 [==============================] - 0s 19ms/step\n",
            "1/1 [==============================] - 0s 20ms/step\n",
            "1/1 [==============================] - 0s 22ms/step\n",
            "1/1 [==============================] - 0s 25ms/step\n",
            "1/1 [==============================] - 0s 21ms/step\n",
            "1/1 [==============================] - 0s 23ms/step\n",
            "1/1 [==============================] - 0s 20ms/step\n",
            "1/1 [==============================] - 0s 20ms/step\n",
            "1/1 [==============================] - 0s 20ms/step\n",
            "1/1 [==============================] - 0s 21ms/step\n",
            "1/1 [==============================] - 0s 21ms/step\n",
            "1/1 [==============================] - 0s 20ms/step\n",
            "1/1 [==============================] - 0s 20ms/step\n",
            "1/1 [==============================] - 0s 20ms/step\n",
            "1/1 [==============================] - 0s 33ms/step\n",
            "1/1 [==============================] - 0s 30ms/step\n",
            "1/1 [==============================] - 0s 31ms/step\n",
            "1/1 [==============================] - 0s 28ms/step\n",
            "1/1 [==============================] - 0s 31ms/step\n",
            "1/1 [==============================] - 0s 34ms/step\n",
            "1/1 [==============================] - 0s 31ms/step\n",
            "1/1 [==============================] - 0s 38ms/step\n",
            "1/1 [==============================] - 0s 31ms/step\n",
            "1/1 [==============================] - 0s 31ms/step\n",
            "1/1 [==============================] - 0s 37ms/step\n",
            "1/1 [==============================] - 0s 34ms/step\n",
            "1/1 [==============================] - 0s 30ms/step\n",
            "1/1 [==============================] - 0s 37ms/step\n",
            "1/1 [==============================] - 0s 31ms/step\n",
            "1/1 [==============================] - 0s 30ms/step\n",
            "1/1 [==============================] - 0s 30ms/step\n",
            "1/1 [==============================] - 0s 29ms/step\n",
            "1/1 [==============================] - 0s 30ms/step\n",
            "1/1 [==============================] - 0s 31ms/step\n",
            "1/1 [==============================] - 0s 37ms/step\n",
            "1/1 [==============================] - 0s 30ms/step\n",
            "1/1 [==============================] - 0s 30ms/step\n",
            "1/1 [==============================] - 0s 22ms/step\n",
            "1/1 [==============================] - 0s 22ms/step\n",
            "1/1 [==============================] - 0s 21ms/step\n",
            "1/1 [==============================] - 0s 24ms/step\n",
            "1/1 [==============================] - 0s 21ms/step\n",
            "1/1 [==============================] - 0s 21ms/step\n",
            "1/1 [==============================] - 0s 22ms/step\n",
            "1/1 [==============================] - 0s 24ms/step\n",
            "1/1 [==============================] - 0s 20ms/step\n",
            "1/1 [==============================] - 0s 19ms/step\n",
            "1/1 [==============================] - 0s 20ms/step\n",
            "1/1 [==============================] - 0s 21ms/step\n",
            "1/1 [==============================] - 0s 21ms/step\n",
            "1/1 [==============================] - 0s 21ms/step\n",
            "1/1 [==============================] - 0s 20ms/step\n",
            "1/1 [==============================] - 0s 22ms/step\n",
            "1/1 [==============================] - 0s 21ms/step\n",
            "1/1 [==============================] - 0s 19ms/step\n",
            "1/1 [==============================] - 0s 27ms/step\n",
            "1/1 [==============================] - 0s 20ms/step\n",
            "1/1 [==============================] - 0s 20ms/step\n",
            "1/1 [==============================] - 0s 20ms/step\n",
            "1/1 [==============================] - 0s 24ms/step\n",
            "1/1 [==============================] - 0s 23ms/step\n",
            "1/1 [==============================] - 0s 21ms/step\n",
            "1/1 [==============================] - 0s 20ms/step\n",
            "1/1 [==============================] - 0s 20ms/step\n",
            "1/1 [==============================] - 0s 20ms/step\n",
            "1/1 [==============================] - 0s 22ms/step\n",
            "1/1 [==============================] - 0s 20ms/step\n",
            "1/1 [==============================] - 0s 22ms/step\n",
            "1/1 [==============================] - 0s 21ms/step\n",
            "1/1 [==============================] - 0s 21ms/step\n",
            "1/1 [==============================] - 0s 22ms/step\n",
            "100 [D loss: 0.6951324045658112 | D accuracy: 35.9375] [G loss: 0.6951549053192139]\n",
            "1/1 [==============================] - 0s 23ms/step\n",
            "1/1 [==============================] - 0s 21ms/step\n",
            "1/1 [==============================] - 0s 19ms/step\n",
            "1/1 [==============================] - 0s 19ms/step\n",
            "1/1 [==============================] - 0s 20ms/step\n",
            "1/1 [==============================] - 0s 18ms/step\n",
            "1/1 [==============================] - 0s 20ms/step\n",
            "1/1 [==============================] - 0s 21ms/step\n",
            "1/1 [==============================] - 0s 20ms/step\n",
            "1/1 [==============================] - 0s 24ms/step\n",
            "1/1 [==============================] - 0s 22ms/step\n",
            "1/1 [==============================] - 0s 19ms/step\n",
            "1/1 [==============================] - 0s 24ms/step\n",
            "1/1 [==============================] - 0s 25ms/step\n",
            "1/1 [==============================] - 0s 20ms/step\n",
            "1/1 [==============================] - 0s 19ms/step\n",
            "1/1 [==============================] - 0s 21ms/step\n",
            "1/1 [==============================] - 0s 20ms/step\n",
            "1/1 [==============================] - 0s 21ms/step\n",
            "1/1 [==============================] - 0s 22ms/step\n",
            "1/1 [==============================] - 0s 21ms/step\n",
            "1/1 [==============================] - 0s 20ms/step\n",
            "1/1 [==============================] - 0s 21ms/step\n",
            "1/1 [==============================] - 0s 20ms/step\n",
            "1/1 [==============================] - 0s 21ms/step\n",
            "1/1 [==============================] - 0s 18ms/step\n",
            "1/1 [==============================] - 0s 20ms/step\n",
            "1/1 [==============================] - 0s 24ms/step\n",
            "1/1 [==============================] - 0s 20ms/step\n",
            "1/1 [==============================] - 0s 21ms/step\n",
            "1/1 [==============================] - 0s 20ms/step\n",
            "1/1 [==============================] - 0s 19ms/step\n",
            "1/1 [==============================] - 0s 22ms/step\n",
            "1/1 [==============================] - 0s 21ms/step\n",
            "1/1 [==============================] - 0s 20ms/step\n",
            "1/1 [==============================] - 0s 19ms/step\n",
            "1/1 [==============================] - 0s 22ms/step\n",
            "1/1 [==============================] - 0s 20ms/step\n",
            "1/1 [==============================] - 0s 20ms/step\n",
            "1/1 [==============================] - 0s 21ms/step\n",
            "1/1 [==============================] - 0s 21ms/step\n",
            "1/1 [==============================] - 0s 21ms/step\n",
            "1/1 [==============================] - 0s 20ms/step\n",
            "1/1 [==============================] - 0s 20ms/step\n",
            "1/1 [==============================] - 0s 21ms/step\n",
            "1/1 [==============================] - 0s 18ms/step\n",
            "1/1 [==============================] - 0s 21ms/step\n",
            "1/1 [==============================] - 0s 21ms/step\n",
            "1/1 [==============================] - 0s 22ms/step\n",
            "1/1 [==============================] - 0s 21ms/step\n",
            "1/1 [==============================] - 0s 24ms/step\n",
            "1/1 [==============================] - 0s 27ms/step\n",
            "1/1 [==============================] - 0s 21ms/step\n",
            "1/1 [==============================] - 0s 20ms/step\n",
            "1/1 [==============================] - 0s 19ms/step\n",
            "1/1 [==============================] - 0s 20ms/step\n",
            "1/1 [==============================] - 0s 21ms/step\n",
            "1/1 [==============================] - 0s 22ms/step\n",
            "1/1 [==============================] - 0s 31ms/step\n",
            "1/1 [==============================] - 0s 32ms/step\n",
            "1/1 [==============================] - 0s 28ms/step\n",
            "1/1 [==============================] - 0s 28ms/step\n",
            "1/1 [==============================] - 0s 27ms/step\n",
            "1/1 [==============================] - 0s 29ms/step\n",
            "1/1 [==============================] - 0s 27ms/step\n",
            "1/1 [==============================] - 0s 26ms/step\n",
            "1/1 [==============================] - 0s 31ms/step\n",
            "1/1 [==============================] - 0s 42ms/step\n",
            "1/1 [==============================] - 0s 32ms/step\n",
            "1/1 [==============================] - 0s 36ms/step\n",
            "1/1 [==============================] - 0s 27ms/step\n",
            "1/1 [==============================] - 0s 30ms/step\n",
            "1/1 [==============================] - 0s 32ms/step\n",
            "1/1 [==============================] - 0s 28ms/step\n",
            "1/1 [==============================] - 0s 28ms/step\n",
            "1/1 [==============================] - 0s 30ms/step\n",
            "1/1 [==============================] - 0s 32ms/step\n",
            "1/1 [==============================] - 0s 26ms/step\n",
            "1/1 [==============================] - 0s 26ms/step\n",
            "1/1 [==============================] - 0s 29ms/step\n",
            "1/1 [==============================] - 0s 27ms/step\n",
            "1/1 [==============================] - 0s 26ms/step\n",
            "1/1 [==============================] - 0s 25ms/step\n",
            "1/1 [==============================] - 0s 26ms/step\n",
            "1/1 [==============================] - 0s 27ms/step\n",
            "1/1 [==============================] - 0s 26ms/step\n",
            "1/1 [==============================] - 0s 26ms/step\n",
            "1/1 [==============================] - 0s 26ms/step\n",
            "1/1 [==============================] - 0s 26ms/step\n",
            "1/1 [==============================] - 0s 26ms/step\n",
            "1/1 [==============================] - 0s 25ms/step\n",
            "1/1 [==============================] - 0s 25ms/step\n",
            "1/1 [==============================] - 0s 28ms/step\n",
            "1/1 [==============================] - 0s 29ms/step\n",
            "1/1 [==============================] - 0s 25ms/step\n",
            "1/1 [==============================] - 0s 25ms/step\n",
            "1/1 [==============================] - 0s 26ms/step\n",
            "1/1 [==============================] - 0s 26ms/step\n",
            "1/1 [==============================] - 0s 27ms/step\n",
            "1/1 [==============================] - 0s 27ms/step\n",
            "200 [D loss: 0.69744011759758 | D accuracy: 46.875] [G loss: 0.6994016766548157]\n",
            "1/1 [==============================] - 0s 25ms/step\n",
            "1/1 [==============================] - 0s 26ms/step\n",
            "1/1 [==============================] - 0s 25ms/step\n",
            "1/1 [==============================] - 0s 27ms/step\n",
            "1/1 [==============================] - 0s 27ms/step\n",
            "1/1 [==============================] - 0s 24ms/step\n",
            "1/1 [==============================] - 0s 27ms/step\n",
            "1/1 [==============================] - 0s 24ms/step\n",
            "1/1 [==============================] - 0s 26ms/step\n",
            "1/1 [==============================] - 0s 31ms/step\n",
            "1/1 [==============================] - 0s 25ms/step\n",
            "1/1 [==============================] - 0s 26ms/step\n",
            "1/1 [==============================] - 0s 27ms/step\n",
            "1/1 [==============================] - 0s 24ms/step\n",
            "1/1 [==============================] - 0s 30ms/step\n",
            "1/1 [==============================] - 0s 25ms/step\n",
            "1/1 [==============================] - 0s 25ms/step\n",
            "1/1 [==============================] - 0s 34ms/step\n",
            "1/1 [==============================] - 0s 25ms/step\n",
            "1/1 [==============================] - 0s 30ms/step\n",
            "1/1 [==============================] - 0s 25ms/step\n",
            "1/1 [==============================] - 0s 25ms/step\n",
            "1/1 [==============================] - 0s 26ms/step\n",
            "1/1 [==============================] - 0s 26ms/step\n",
            "1/1 [==============================] - 0s 24ms/step\n",
            "1/1 [==============================] - 0s 28ms/step\n",
            "1/1 [==============================] - 0s 26ms/step\n",
            "1/1 [==============================] - 0s 25ms/step\n",
            "1/1 [==============================] - 0s 25ms/step\n",
            "1/1 [==============================] - 0s 24ms/step\n",
            "1/1 [==============================] - 0s 24ms/step\n",
            "1/1 [==============================] - 0s 25ms/step\n",
            "1/1 [==============================] - 0s 24ms/step\n",
            "1/1 [==============================] - 0s 27ms/step\n",
            "1/1 [==============================] - 0s 26ms/step\n",
            "1/1 [==============================] - 0s 26ms/step\n",
            "1/1 [==============================] - 0s 25ms/step\n",
            "1/1 [==============================] - 0s 25ms/step\n",
            "1/1 [==============================] - 0s 25ms/step\n",
            "1/1 [==============================] - 0s 29ms/step\n",
            "1/1 [==============================] - 0s 26ms/step\n",
            "1/1 [==============================] - 0s 28ms/step\n",
            "1/1 [==============================] - 0s 30ms/step\n",
            "1/1 [==============================] - 0s 30ms/step\n",
            "1/1 [==============================] - 0s 26ms/step\n",
            "1/1 [==============================] - 0s 28ms/step\n",
            "1/1 [==============================] - 0s 28ms/step\n",
            "1/1 [==============================] - 0s 26ms/step\n",
            "1/1 [==============================] - 0s 28ms/step\n",
            "1/1 [==============================] - 0s 30ms/step\n",
            "1/1 [==============================] - 0s 24ms/step\n",
            "1/1 [==============================] - 0s 26ms/step\n",
            "1/1 [==============================] - 0s 25ms/step\n",
            "1/1 [==============================] - 0s 40ms/step\n",
            "1/1 [==============================] - 0s 35ms/step\n",
            "1/1 [==============================] - 0s 34ms/step\n",
            "1/1 [==============================] - 0s 38ms/step\n",
            "1/1 [==============================] - 0s 34ms/step\n",
            "1/1 [==============================] - 0s 35ms/step\n",
            "1/1 [==============================] - 0s 33ms/step\n",
            "1/1 [==============================] - 0s 41ms/step\n",
            "1/1 [==============================] - 0s 33ms/step\n",
            "1/1 [==============================] - 0s 38ms/step\n",
            "1/1 [==============================] - 0s 44ms/step\n",
            "1/1 [==============================] - 0s 42ms/step\n",
            "1/1 [==============================] - 0s 35ms/step\n",
            "1/1 [==============================] - 0s 35ms/step\n",
            "1/1 [==============================] - 0s 44ms/step\n",
            "1/1 [==============================] - 0s 35ms/step\n",
            "1/1 [==============================] - 0s 35ms/step\n",
            "1/1 [==============================] - 0s 37ms/step\n",
            "1/1 [==============================] - 0s 29ms/step\n",
            "1/1 [==============================] - 0s 25ms/step\n",
            "1/1 [==============================] - 0s 25ms/step\n",
            "1/1 [==============================] - 0s 26ms/step\n",
            "1/1 [==============================] - 0s 25ms/step\n",
            "1/1 [==============================] - 0s 33ms/step\n",
            "1/1 [==============================] - 0s 24ms/step\n",
            "1/1 [==============================] - 0s 24ms/step\n",
            "1/1 [==============================] - 0s 25ms/step\n",
            "1/1 [==============================] - 0s 24ms/step\n",
            "1/1 [==============================] - 0s 23ms/step\n",
            "1/1 [==============================] - 0s 25ms/step\n",
            "1/1 [==============================] - 0s 25ms/step\n",
            "1/1 [==============================] - 0s 24ms/step\n",
            "1/1 [==============================] - 0s 28ms/step\n",
            "1/1 [==============================] - 0s 26ms/step\n",
            "1/1 [==============================] - 0s 25ms/step\n",
            "1/1 [==============================] - 0s 28ms/step\n",
            "1/1 [==============================] - 0s 23ms/step\n",
            "1/1 [==============================] - 0s 25ms/step\n",
            "1/1 [==============================] - 0s 25ms/step\n",
            "1/1 [==============================] - 0s 28ms/step\n",
            "1/1 [==============================] - 0s 24ms/step\n",
            "1/1 [==============================] - 0s 24ms/step\n",
            "1/1 [==============================] - 0s 25ms/step\n",
            "1/1 [==============================] - 0s 24ms/step\n",
            "1/1 [==============================] - 0s 24ms/step\n",
            "1/1 [==============================] - 0s 25ms/step\n",
            "1/1 [==============================] - 0s 25ms/step\n",
            "300 [D loss: 0.692439466714859 | D accuracy: 59.375] [G loss: 0.7077188491821289]\n",
            "1/1 [==============================] - 0s 25ms/step\n",
            "1/1 [==============================] - 0s 34ms/step\n",
            "1/1 [==============================] - 0s 25ms/step\n",
            "1/1 [==============================] - 0s 25ms/step\n",
            "1/1 [==============================] - 0s 26ms/step\n",
            "1/1 [==============================] - 0s 24ms/step\n",
            "1/1 [==============================] - 0s 26ms/step\n",
            "1/1 [==============================] - 0s 24ms/step\n",
            "1/1 [==============================] - 0s 23ms/step\n",
            "1/1 [==============================] - 0s 24ms/step\n",
            "1/1 [==============================] - 0s 25ms/step\n",
            "1/1 [==============================] - 0s 26ms/step\n",
            "1/1 [==============================] - 0s 25ms/step\n",
            "1/1 [==============================] - 0s 25ms/step\n",
            "1/1 [==============================] - 0s 23ms/step\n",
            "1/1 [==============================] - 0s 24ms/step\n",
            "1/1 [==============================] - 0s 23ms/step\n",
            "1/1 [==============================] - 0s 23ms/step\n",
            "1/1 [==============================] - 0s 24ms/step\n",
            "1/1 [==============================] - 0s 24ms/step\n",
            "1/1 [==============================] - 0s 23ms/step\n",
            "1/1 [==============================] - 0s 28ms/step\n",
            "1/1 [==============================] - 0s 27ms/step\n",
            "1/1 [==============================] - 0s 29ms/step\n",
            "1/1 [==============================] - 0s 24ms/step\n",
            "1/1 [==============================] - 0s 28ms/step\n",
            "1/1 [==============================] - 0s 25ms/step\n",
            "1/1 [==============================] - 0s 27ms/step\n",
            "1/1 [==============================] - 0s 28ms/step\n",
            "1/1 [==============================] - 0s 22ms/step\n",
            "1/1 [==============================] - 0s 24ms/step\n",
            "1/1 [==============================] - 0s 27ms/step\n",
            "1/1 [==============================] - 0s 26ms/step\n",
            "1/1 [==============================] - 0s 23ms/step\n",
            "1/1 [==============================] - 0s 25ms/step\n",
            "1/1 [==============================] - 0s 24ms/step\n",
            "1/1 [==============================] - 0s 24ms/step\n",
            "1/1 [==============================] - 0s 24ms/step\n",
            "1/1 [==============================] - 0s 23ms/step\n",
            "1/1 [==============================] - 0s 23ms/step\n",
            "1/1 [==============================] - 0s 24ms/step\n",
            "1/1 [==============================] - 0s 24ms/step\n",
            "1/1 [==============================] - 0s 25ms/step\n",
            "1/1 [==============================] - 0s 24ms/step\n",
            "1/1 [==============================] - 0s 22ms/step\n",
            "1/1 [==============================] - 0s 25ms/step\n",
            "1/1 [==============================] - 0s 23ms/step\n",
            "1/1 [==============================] - 0s 24ms/step\n",
            "1/1 [==============================] - 0s 24ms/step\n",
            "1/1 [==============================] - 0s 23ms/step\n",
            "1/1 [==============================] - 0s 27ms/step\n",
            "1/1 [==============================] - 0s 23ms/step\n",
            "1/1 [==============================] - 0s 27ms/step\n",
            "1/1 [==============================] - 0s 37ms/step\n",
            "1/1 [==============================] - 0s 37ms/step\n",
            "1/1 [==============================] - 0s 42ms/step\n",
            "1/1 [==============================] - 0s 31ms/step\n",
            "1/1 [==============================] - 0s 31ms/step\n",
            "1/1 [==============================] - 0s 36ms/step\n",
            "1/1 [==============================] - 0s 33ms/step\n",
            "1/1 [==============================] - 0s 31ms/step\n",
            "1/1 [==============================] - 0s 38ms/step\n",
            "1/1 [==============================] - 0s 36ms/step\n",
            "1/1 [==============================] - 0s 44ms/step\n",
            "1/1 [==============================] - 0s 39ms/step\n",
            "1/1 [==============================] - 0s 36ms/step\n",
            "1/1 [==============================] - 0s 32ms/step\n",
            "1/1 [==============================] - 0s 31ms/step\n",
            "1/1 [==============================] - 0s 39ms/step\n",
            "1/1 [==============================] - 0s 35ms/step\n",
            "1/1 [==============================] - 0s 21ms/step\n",
            "1/1 [==============================] - 0s 23ms/step\n",
            "1/1 [==============================] - 0s 24ms/step\n",
            "1/1 [==============================] - 0s 24ms/step\n",
            "1/1 [==============================] - 0s 24ms/step\n",
            "1/1 [==============================] - 0s 23ms/step\n",
            "1/1 [==============================] - 0s 22ms/step\n",
            "1/1 [==============================] - 0s 23ms/step\n",
            "1/1 [==============================] - 0s 23ms/step\n",
            "1/1 [==============================] - 0s 22ms/step\n",
            "1/1 [==============================] - 0s 22ms/step\n",
            "1/1 [==============================] - 0s 24ms/step\n",
            "1/1 [==============================] - 0s 24ms/step\n",
            "1/1 [==============================] - 0s 24ms/step\n",
            "1/1 [==============================] - 0s 22ms/step\n",
            "1/1 [==============================] - 0s 27ms/step\n",
            "1/1 [==============================] - 0s 21ms/step\n",
            "1/1 [==============================] - 0s 21ms/step\n",
            "1/1 [==============================] - 0s 21ms/step\n",
            "1/1 [==============================] - 0s 22ms/step\n",
            "1/1 [==============================] - 0s 22ms/step\n",
            "1/1 [==============================] - 0s 22ms/step\n",
            "1/1 [==============================] - 0s 24ms/step\n",
            "1/1 [==============================] - 0s 28ms/step\n",
            "1/1 [==============================] - 0s 22ms/step\n",
            "1/1 [==============================] - 0s 21ms/step\n",
            "1/1 [==============================] - 0s 22ms/step\n",
            "1/1 [==============================] - 0s 21ms/step\n",
            "1/1 [==============================] - 0s 22ms/step\n",
            "1/1 [==============================] - 0s 26ms/step\n",
            "400 [D loss: 0.690830647945404 | D accuracy: 57.8125] [G loss: 0.6965866088867188]\n",
            "1/1 [==============================] - 0s 25ms/step\n",
            "1/1 [==============================] - 0s 29ms/step\n",
            "1/1 [==============================] - 0s 23ms/step\n",
            "1/1 [==============================] - 0s 23ms/step\n",
            "1/1 [==============================] - 0s 24ms/step\n",
            "1/1 [==============================] - 0s 22ms/step\n",
            "1/1 [==============================] - 0s 22ms/step\n",
            "1/1 [==============================] - 0s 22ms/step\n",
            "1/1 [==============================] - 0s 24ms/step\n",
            "1/1 [==============================] - 0s 24ms/step\n",
            "1/1 [==============================] - 0s 22ms/step\n",
            "1/1 [==============================] - 0s 26ms/step\n",
            "1/1 [==============================] - 0s 24ms/step\n",
            "1/1 [==============================] - 0s 24ms/step\n",
            "1/1 [==============================] - 0s 22ms/step\n",
            "1/1 [==============================] - 0s 24ms/step\n",
            "1/1 [==============================] - 0s 22ms/step\n",
            "1/1 [==============================] - 0s 22ms/step\n",
            "1/1 [==============================] - 0s 24ms/step\n",
            "1/1 [==============================] - 0s 22ms/step\n",
            "1/1 [==============================] - 0s 23ms/step\n",
            "1/1 [==============================] - 0s 24ms/step\n",
            "1/1 [==============================] - 0s 23ms/step\n",
            "1/1 [==============================] - 0s 22ms/step\n",
            "1/1 [==============================] - 0s 23ms/step\n",
            "1/1 [==============================] - 0s 23ms/step\n",
            "1/1 [==============================] - 0s 22ms/step\n",
            "1/1 [==============================] - 0s 25ms/step\n",
            "1/1 [==============================] - 0s 21ms/step\n",
            "1/1 [==============================] - 0s 24ms/step\n",
            "1/1 [==============================] - 0s 23ms/step\n",
            "1/1 [==============================] - 0s 24ms/step\n",
            "1/1 [==============================] - 0s 22ms/step\n",
            "1/1 [==============================] - 0s 22ms/step\n",
            "1/1 [==============================] - 0s 22ms/step\n",
            "1/1 [==============================] - 0s 21ms/step\n",
            "1/1 [==============================] - 0s 22ms/step\n",
            "1/1 [==============================] - 0s 21ms/step\n",
            "1/1 [==============================] - 0s 22ms/step\n",
            "1/1 [==============================] - 0s 25ms/step\n",
            "1/1 [==============================] - 0s 26ms/step\n",
            "1/1 [==============================] - 0s 24ms/step\n",
            "1/1 [==============================] - 0s 24ms/step\n",
            "1/1 [==============================] - 0s 26ms/step\n",
            "1/1 [==============================] - 0s 22ms/step\n",
            "1/1 [==============================] - 0s 21ms/step\n",
            "1/1 [==============================] - 0s 22ms/step\n",
            "1/1 [==============================] - 0s 21ms/step\n",
            "1/1 [==============================] - 0s 21ms/step\n",
            "1/1 [==============================] - 0s 25ms/step\n",
            "1/1 [==============================] - 0s 22ms/step\n",
            "1/1 [==============================] - 0s 23ms/step\n",
            "1/1 [==============================] - 0s 23ms/step\n",
            "1/1 [==============================] - 0s 22ms/step\n",
            "1/1 [==============================] - 0s 21ms/step\n",
            "1/1 [==============================] - 0s 35ms/step\n",
            "1/1 [==============================] - 0s 30ms/step\n",
            "1/1 [==============================] - 0s 32ms/step\n",
            "1/1 [==============================] - 0s 41ms/step\n",
            "1/1 [==============================] - 0s 29ms/step\n",
            "1/1 [==============================] - 0s 32ms/step\n",
            "1/1 [==============================] - 0s 30ms/step\n",
            "1/1 [==============================] - 0s 31ms/step\n",
            "1/1 [==============================] - 0s 30ms/step\n",
            "1/1 [==============================] - 0s 35ms/step\n",
            "1/1 [==============================] - 0s 31ms/step\n",
            "1/1 [==============================] - 0s 32ms/step\n",
            "1/1 [==============================] - 0s 33ms/step\n",
            "1/1 [==============================] - 0s 30ms/step\n",
            "1/1 [==============================] - 0s 43ms/step\n",
            "1/1 [==============================] - 0s 34ms/step\n",
            "1/1 [==============================] - 0s 33ms/step\n",
            "1/1 [==============================] - 0s 39ms/step\n",
            "1/1 [==============================] - 0s 42ms/step\n",
            "1/1 [==============================] - 0s 36ms/step\n",
            "1/1 [==============================] - 0s 43ms/step\n",
            "1/1 [==============================] - 0s 21ms/step\n",
            "1/1 [==============================] - 0s 22ms/step\n",
            "1/1 [==============================] - 0s 31ms/step\n",
            "1/1 [==============================] - 0s 21ms/step\n",
            "1/1 [==============================] - 0s 20ms/step\n",
            "1/1 [==============================] - 0s 22ms/step\n",
            "1/1 [==============================] - 0s 23ms/step\n",
            "1/1 [==============================] - 0s 22ms/step\n",
            "1/1 [==============================] - 0s 20ms/step\n",
            "1/1 [==============================] - 0s 21ms/step\n",
            "1/1 [==============================] - 0s 21ms/step\n",
            "1/1 [==============================] - 0s 22ms/step\n",
            "1/1 [==============================] - 0s 23ms/step\n",
            "1/1 [==============================] - 0s 22ms/step\n",
            "1/1 [==============================] - 0s 22ms/step\n",
            "1/1 [==============================] - 0s 21ms/step\n",
            "1/1 [==============================] - 0s 23ms/step\n",
            "1/1 [==============================] - 0s 22ms/step\n",
            "1/1 [==============================] - 0s 22ms/step\n",
            "1/1 [==============================] - 0s 21ms/step\n",
            "1/1 [==============================] - 0s 31ms/step\n",
            "1/1 [==============================] - 0s 22ms/step\n",
            "1/1 [==============================] - 0s 25ms/step\n"
          ]
        }
      ]
    },
    {
      "cell_type": "code",
      "source": [
        "# Generar nuevas secuencias\n",
        "noise = np.random.normal(0, 1, (10, latent_dim))\n",
        "generated_seqs = generator.predict(noise)\n",
        "generated_seqs = scaler.inverse_transform(generated_seqs)\n"
      ],
      "metadata": {
        "colab": {
          "base_uri": "https://localhost:8080/"
        },
        "id": "RLcUxKlul6hE",
        "outputId": "159adc25-b02e-40f9-ab61-4afc77fc26ad"
      },
      "execution_count": null,
      "outputs": [
        {
          "output_type": "stream",
          "name": "stdout",
          "text": [
            "1/1 [==============================] - 0s 352ms/step\n"
          ]
        }
      ]
    },
    {
      "cell_type": "code",
      "source": [
        "import matplotlib.pyplot as plt"
      ],
      "metadata": {
        "id": "s3Int2jdmQ8y"
      },
      "execution_count": null,
      "outputs": []
    },
    {
      "cell_type": "markdown",
      "source": [
        "**Predicciones para los próximos 30 días de la red GAN**\n",
        "\n",
        "Cada secuencia generada representa una predicción para los próximos 30 días, basada en la información de ventas históricas y el patrón capturado por el modelo de GAN.\n",
        "Permite obtener una idea de cómo podrían comportarse las ventas en el futuro, según el modelo entrenado.\n",
        "\n"
      ],
      "metadata": {
        "id": "5w8PUUHQrO6t"
      }
    },
    {
      "cell_type": "code",
      "source": [
        "# Visualizar secuencias generadas\n",
        "plt.figure(figsize=(10, 6))\n",
        "for i, seq in enumerate(generated_seqs):\n",
        "    plt.plot(seq, label=f'Sequence {i+1}')\n",
        "plt.title('Secuencias de Ventas Generadas por la GAN')\n",
        "plt.xlabel('Fecha')\n",
        "plt.ylabel('Ventas Totales')\n",
        "plt.legend()\n",
        "plt.show()"
      ],
      "metadata": {
        "colab": {
          "base_uri": "https://localhost:8080/",
          "height": 564
        },
        "id": "s6TE6lvHmJjH",
        "outputId": "32e943f7-900d-46ac-c9b3-9ddc7a968a39"
      },
      "execution_count": null,
      "outputs": [
        {
          "output_type": "display_data",
          "data": {
            "text/plain": [
              "<Figure size 1000x600 with 1 Axes>"
            ],
            "image/png": "[encoded data removed]"
          },
          "metadata": {}
        }
      ]
    },
    {
      "cell_type": "markdown",
      "source": [
        "Presentamos la implementación de dos técnicas de aprendizaje automático, Redes Neuronales Convolucionales (CNN) y Redes Generativas Adversarias (GAN), para predecir ventas en un contexto comercial. El objetivo principal es utilizar modelos de aprendizaje automático para generar predicciones de ventas futuras basadas en datos históricos.\n",
        "\n",
        "**CNN para Predicciones de Ventas**\n",
        "La Red Neuronal Convolucional (CNN) es una arquitectura de red neuronal especialmente diseñada para procesar datos estructurados como imágenes, pero también puede ser adaptada para trabajar con secuencias temporales, como series de tiempo de ventas. En este caso, se implementa una CNN para predecir las ventas futuras utilizando datos históricos.\n",
        "\n",
        "**Preprocesamiento de Datos:**   Se realiza un preprocesamiento de los datos históricos de ventas, que incluye normalización de datos y creación de secuencias de tiempo.\n",
        "\n",
        "**Arquitectura de la CNN:** La CNN se diseña con capas convolucionales y de agrupamiento para aprender características temporales importantes de los datos de ventas.\n",
        "\n",
        "**Entrenamiento del Modelo:** Se entrena la CNN utilizando datos históricos de ventas, ajustando los parámetros del modelo para minimizar la pérdida y mejorar la precisión de las predicciones.\n",
        "\n",
        "**Evaluación del Modelo:** Se evalúa el rendimiento del modelo utilizando métricas como error cuadrático medio (MSE) o coeficiente de determinación (R2) en un conjunto de datos de validación.\n",
        "\n",
        "**GAN para Predicciones de Ventas**\n",
        "Las Redes Generativas Adversarias (GAN) son un tipo de arquitectura de redes neuronales que consisten en dos modelos, un generador y un discriminador, que compiten entre sí para mejorar la calidad de las muestras generadas. En este caso, se utiliza una GAN para generar secuencias de ventas sintéticas basadas en datos históricos.\n",
        "\n",
        "**Preprocesamiento de Datos:**  Se realiza un preprocesamiento similar al utilizado en la CNN para preparar los datos históricos de ventas.\n",
        "\n",
        "**Arquitectura de la GAN:** La GAN se compone de un generador y un discriminador. El generador crea secuencias de ventas sintéticas basadas en ruido aleatorio, mientras que el discriminador evalúa la autenticidad de las muestras generadas.\n",
        "\n",
        "**Entrenamiento del Modelo:** Se entrena la GAN utilizando datos históricos de ventas. Durante el entrenamiento, el generador mejora la calidad de las muestras generadas mientras el discriminador aprende a distinguir entre muestras reales y sintéticas.\n",
        "\n",
        "**Generación de Predicciones:** Una vez que la GAN está entrenada, se puede utilizar el generador para generar secuencias de ventas sintéticas para un período futuro específico.\n",
        "\n",
        "**Conclusiones**\n",
        "La implementación de CNN y GAN para predecir ventas ofrece una forma innovadora de utilizar técnicas de aprendizaje automático para análisis y predicción de series temporales.\n",
        "La CNN permite modelar patrones temporales complejos en los datos de ventas históricos, mientras que la GAN ofrece la capacidad de generar secuencias de ventas sintéticas para períodos futuros.\n"
      ],
      "metadata": {
        "id": "kGNO-n6XQtrf"
      }
    }
  ]
}